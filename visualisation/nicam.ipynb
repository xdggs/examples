{
 "cells": [
  {
   "cell_type": "markdown",
   "id": "0",
   "metadata": {},
   "source": [
    "# NICAM model"
   ]
  },
  {
   "cell_type": "markdown",
   "id": "1",
   "metadata": {},
   "source": [
    "## setup\n",
    "\n",
    "All the dependencies are set up for use with [`pixi`](https://pixi.sh/latest/). You can thus use\n",
    "```sh\n",
    "pixi run -e nicam jupyter lab\n",
    "```\n",
    "from the project directory to run a local jupyterhub with all the dependencies.\n",
    "\n",
    "On a jupyterhub instance, use\n",
    "```sh\n",
    "pixi workspace export -e nicam env.yml\n",
    "conda env update -n <env> -f env.yml\n",
    "```\n",
    "or\n",
    "```sh\n",
    "pip install \"xdggs @ git+https://github.com/keewis/xdggs.git@test\n",
    "```"
   ]
  },
  {
   "cell_type": "code",
   "execution_count": null,
   "id": "2",
   "metadata": {},
   "outputs": [],
   "source": [
    "from distributed import Client\n",
    "\n",
    "client = Client()\n",
    "client"
   ]
  },
  {
   "cell_type": "markdown",
   "id": "3",
   "metadata": {},
   "source": [
    "imports"
   ]
  },
  {
   "cell_type": "code",
   "execution_count": null,
   "id": "4",
   "metadata": {},
   "outputs": [],
   "source": [
    "import dask.array as da\n",
    "import intake\n",
    "import numpy as np\n",
    "import xarray as xr\n",
    "import xdggs  # noqa: F401"
   ]
  },
  {
   "cell_type": "markdown",
   "id": "5",
   "metadata": {},
   "source": [
    "## open the data"
   ]
  },
  {
   "cell_type": "markdown",
   "id": "6",
   "metadata": {},
   "source": [
    "open the hackathon intake catalog"
   ]
  },
  {
   "cell_type": "code",
   "execution_count": null,
   "id": "7",
   "metadata": {},
   "outputs": [],
   "source": [
    "cat = intake.open_catalog(\n",
    "    \"https://digital-earths-global-hackathon.github.io/catalog/catalog.yaml\"\n",
    ")[\"online\"]\n",
    "cat"
   ]
  },
  {
   "cell_type": "markdown",
   "id": "8",
   "metadata": {},
   "source": [
    "open the model at the highest level, and derive the total wind speed from the wind vector"
   ]
  },
  {
   "cell_type": "code",
   "execution_count": null,
   "id": "9",
   "metadata": {},
   "outputs": [],
   "source": [
    "level = 15\n",
    "ds = (\n",
    "    cat.nicam_220m_test(zoom=level, chunks={\"cell\": \"auto\"})\n",
    "    .to_dask()\n",
    "    .squeeze()\n",
    "    .assign(windspeed=lambda ds: np.hypot(ds[\"ss_u10m\"], ds[\"ss_v10m\"]))\n",
    ")\n",
    "ds"
   ]
  },
  {
   "cell_type": "markdown",
   "id": "10",
   "metadata": {},
   "source": [
    "construct a (lazy) cell ids coordinate and create a lazy xdggs index (a healpix `\"moc\"` index, which is based on a multi-order coverage map instead of the standard eager pandas index)"
   ]
  },
  {
   "cell_type": "code",
   "execution_count": null,
   "id": "11",
   "metadata": {},
   "outputs": [],
   "source": [
    "decoded = ds.assign_coords(\n",
    "    {\n",
    "        \"cell_ids\": (\n",
    "            \"cell\",\n",
    "            da.arange(\n",
    "                12 * 4**level, dtype=\"uint64\", chunks=ds[\"windspeed\"].data.chunks[0][0]\n",
    "            ),\n",
    "        )\n",
    "    }\n",
    ").dggs.decode(\n",
    "    {\"grid_name\": \"healpix\", \"level\": level, \"indexing_scheme\": \"nested\"},\n",
    "    index_kind=\"moc\",\n",
    ")\n",
    "decoded"
   ]
  },
  {
   "cell_type": "markdown",
   "id": "12",
   "metadata": {},
   "source": [
    "Manually subset the dataset, based on a bounding box:\n",
    "\n",
    "```{note}\n",
    "\n",
    "The healpix `\"moc\"` index does not support selecting with arrays, yet, only by a single slice. As such, we need to:\n",
    "\n",
    "1. determine the initial slice for a coarse selection\n",
    "2. replace the moc index with a pandas index\n",
    "3. compute the exact subset\n",
    "```"
   ]
  },
  {
   "cell_type": "code",
   "execution_count": null,
   "id": "13",
   "metadata": {},
   "outputs": [],
   "source": [
    "box = [125.8, 29, 151, 55]\n",
    "polygon = np.array(\n",
    "    [\n",
    "        [box[0], box[1]],\n",
    "        [box[2], box[1]],\n",
    "        [box[2], box[3]],\n",
    "        [box[0], box[3]],\n",
    "    ]\n",
    ")"
   ]
  },
  {
   "cell_type": "code",
   "execution_count": null,
   "id": "14",
   "metadata": {},
   "outputs": [],
   "source": [
    "import cdshealpix\n",
    "from astropy.coordinates import Latitude, Longitude"
   ]
  },
  {
   "cell_type": "code",
   "execution_count": null,
   "id": "15",
   "metadata": {},
   "outputs": [],
   "source": [
    "lon = Longitude(polygon[:, 0], unit=\"degree\")\n",
    "lat = Latitude(polygon[:, 1], unit=\"degree\")"
   ]
  },
  {
   "cell_type": "code",
   "execution_count": null,
   "id": "16",
   "metadata": {},
   "outputs": [],
   "source": [
    "cell_ids, _, _ = cdshealpix.nested.polygon_search(\n",
    "    lon, lat, depth=decoded.dggs.grid_info.level, flat=True\n",
    ")\n",
    "cell_ids"
   ]
  },
  {
   "cell_type": "markdown",
   "id": "17",
   "metadata": {},
   "source": [
    "convert to a slice, as the moc index does not support subsetting by an array right now:"
   ]
  },
  {
   "cell_type": "code",
   "execution_count": null,
   "id": "18",
   "metadata": {},
   "outputs": [],
   "source": [
    "slice_ = slice(cell_ids.min().item(), cell_ids.max().item())\n",
    "slice_"
   ]
  },
  {
   "cell_type": "code",
   "execution_count": null,
   "id": "19",
   "metadata": {},
   "outputs": [],
   "source": [
    "subset = decoded.isel(cell=slice_)\n",
    "subset"
   ]
  },
  {
   "cell_type": "markdown",
   "id": "20",
   "metadata": {},
   "source": [
    "## downscale\n",
    "\n",
    "For plotting with `explore`, we need to downscale the data to something we can keep in-memory."
   ]
  },
  {
   "cell_type": "markdown",
   "id": "21",
   "metadata": {},
   "source": [
    "compute (chunked) parent cells\n",
    "\n",
    "The extra call to `chunk` can be dropped once `xdggs` supports dask."
   ]
  },
  {
   "cell_type": "code",
   "execution_count": null,
   "id": "22",
   "metadata": {},
   "outputs": [],
   "source": [
    "parents = subset.dggs.zoom_to(level=12)\n",
    "parents"
   ]
  },
  {
   "cell_type": "code",
   "execution_count": null,
   "id": "23",
   "metadata": {},
   "outputs": [],
   "source": [
    "parents_ = parents.chunk(subset.chunksizes)\n",
    "parents_"
   ]
  },
  {
   "cell_type": "markdown",
   "id": "24",
   "metadata": {},
   "source": [
    "Aggregate using a `groupby`-`mean` operation by parent cell ids"
   ]
  },
  {
   "cell_type": "code",
   "execution_count": null,
   "id": "25",
   "metadata": {},
   "outputs": [],
   "source": [
    "grid_info = subset.dggs.grid_info.to_dict() | {\"level\": 12}\n",
    "downsampled = (\n",
    "    subset.assign_coords(parents=parents_)\n",
    "    .drop_indexes(\"cell_ids\")\n",
    "    .groupby(parents=xr.groupers.UniqueGrouper(labels=np.unique(parents)))\n",
    "    .mean()\n",
    "    .rename_vars({\"parents\": \"cell_ids\"})\n",
    "    .rename_dims({\"parents\": \"cells\"})\n",
    "    .dggs.decode(grid_info)\n",
    ")\n",
    "downsampled"
   ]
  },
  {
   "cell_type": "markdown",
   "id": "26",
   "metadata": {},
   "source": [
    "## visualization"
   ]
  },
  {
   "cell_type": "markdown",
   "id": "27",
   "metadata": {},
   "source": [
    "load the downscaled data into memory"
   ]
  },
  {
   "cell_type": "code",
   "execution_count": null,
   "id": "28",
   "metadata": {},
   "outputs": [],
   "source": [
    "computed = downsampled[\"windspeed\"].compute().assign_latlon_coords()\n",
    "computed"
   ]
  },
  {
   "cell_type": "markdown",
   "id": "29",
   "metadata": {},
   "source": [
    "visualize using `explore`"
   ]
  },
  {
   "cell_type": "code",
   "execution_count": null,
   "id": "30",
   "metadata": {},
   "outputs": [],
   "source": [
    "computed.dggs.explore(alpha=0.8)"
   ]
  }
 ],
 "metadata": {
  "language_info": {
   "codemirror_mode": {
    "name": "ipython",
    "version": 3
   },
   "file_extension": ".py",
   "mimetype": "text/x-python",
   "name": "python",
   "nbconvert_exporter": "python",
   "pygments_lexer": "ipython3",
   "version": "3.12.11"
  }
 },
 "nbformat": 4,
 "nbformat_minor": 5
}
